{
 "cells": [
  {
   "cell_type": "code",
   "execution_count": 1,
   "metadata": {},
   "outputs": [],
   "source": [
    "import pandas as pd\n",
    "import numpy as np\n",
    "from matplotlib import pyplot\n",
    "from statsmodels.tsa.ar_model import AutoReg"
   ]
  },
  {
   "cell_type": "code",
   "execution_count": 2,
   "metadata": {},
   "outputs": [],
   "source": [
    "df=pd.read_csv(r\"C:\\Users\\user\\Desktop\\monthly_csv.csv\",usecols=[1,2],index_col=0,parse_dates=True)"
   ]
  },
  {
   "cell_type": "code",
   "execution_count": 3,
   "metadata": {},
   "outputs": [],
   "source": [
    "x=df.values"
   ]
  },
  {
   "cell_type": "code",
   "execution_count": 4,
   "metadata": {},
   "outputs": [
    {
     "data": {
      "text/html": [
       "<div>\n",
       "<style scoped>\n",
       "    .dataframe tbody tr th:only-of-type {\n",
       "        vertical-align: middle;\n",
       "    }\n",
       "\n",
       "    .dataframe tbody tr th {\n",
       "        vertical-align: top;\n",
       "    }\n",
       "\n",
       "    .dataframe thead th {\n",
       "        text-align: right;\n",
       "    }\n",
       "</style>\n",
       "<table border=\"1\" class=\"dataframe\">\n",
       "  <thead>\n",
       "    <tr style=\"text-align: right;\">\n",
       "      <th></th>\n",
       "      <th>Mean</th>\n",
       "    </tr>\n",
       "    <tr>\n",
       "      <th>Date</th>\n",
       "      <th></th>\n",
       "    </tr>\n",
       "  </thead>\n",
       "  <tbody>\n",
       "    <tr>\n",
       "      <th>2016-12-06</th>\n",
       "      <td>0.7895</td>\n",
       "    </tr>\n",
       "    <tr>\n",
       "      <th>2016-12-06</th>\n",
       "      <td>0.8100</td>\n",
       "    </tr>\n",
       "    <tr>\n",
       "      <th>2016-11-06</th>\n",
       "      <td>0.7504</td>\n",
       "    </tr>\n",
       "    <tr>\n",
       "      <th>2016-11-06</th>\n",
       "      <td>0.9300</td>\n",
       "    </tr>\n",
       "    <tr>\n",
       "      <th>2016-10-06</th>\n",
       "      <td>0.7292</td>\n",
       "    </tr>\n",
       "    <tr>\n",
       "      <th>...</th>\n",
       "      <td>...</td>\n",
       "    </tr>\n",
       "    <tr>\n",
       "      <th>1880-03-06</th>\n",
       "      <td>-0.1800</td>\n",
       "    </tr>\n",
       "    <tr>\n",
       "      <th>1880-02-06</th>\n",
       "      <td>-0.1229</td>\n",
       "    </tr>\n",
       "    <tr>\n",
       "      <th>1880-02-06</th>\n",
       "      <td>-0.2100</td>\n",
       "    </tr>\n",
       "    <tr>\n",
       "      <th>1880-01-06</th>\n",
       "      <td>0.0009</td>\n",
       "    </tr>\n",
       "    <tr>\n",
       "      <th>1880-01-06</th>\n",
       "      <td>-0.3000</td>\n",
       "    </tr>\n",
       "  </tbody>\n",
       "</table>\n",
       "<p>3288 rows × 1 columns</p>\n",
       "</div>"
      ],
      "text/plain": [
       "              Mean\n",
       "Date              \n",
       "2016-12-06  0.7895\n",
       "2016-12-06  0.8100\n",
       "2016-11-06  0.7504\n",
       "2016-11-06  0.9300\n",
       "2016-10-06  0.7292\n",
       "...            ...\n",
       "1880-03-06 -0.1800\n",
       "1880-02-06 -0.1229\n",
       "1880-02-06 -0.2100\n",
       "1880-01-06  0.0009\n",
       "1880-01-06 -0.3000\n",
       "\n",
       "[3288 rows x 1 columns]"
      ]
     },
     "execution_count": 4,
     "metadata": {},
     "output_type": "execute_result"
    }
   ],
   "source": [
    "df"
   ]
  },
  {
   "cell_type": "code",
   "execution_count": 5,
   "metadata": {},
   "outputs": [
    {
     "data": {
      "text/plain": [
       "(3288, 1)"
      ]
     },
     "execution_count": 5,
     "metadata": {},
     "output_type": "execute_result"
    }
   ],
   "source": [
    "df.shape"
   ]
  },
  {
   "cell_type": "code",
   "execution_count": 6,
   "metadata": {},
   "outputs": [
    {
     "name": "stdout",
     "output_type": "stream",
     "text": [
      "[[ 0.7895]\n",
      " [ 0.81  ]\n",
      " [ 0.7504]\n",
      " ...\n",
      " [-0.21  ]\n",
      " [ 0.0009]\n",
      " [-0.3   ]]\n"
     ]
    }
   ],
   "source": [
    "print(x)"
   ]
  },
  {
   "cell_type": "code",
   "execution_count": 7,
   "metadata": {},
   "outputs": [
    {
     "data": {
      "text/plain": [
       "<matplotlib.axes._subplots.AxesSubplot at 0x2aa4fae8b48>"
      ]
     },
     "execution_count": 7,
     "metadata": {},
     "output_type": "execute_result"
    },
    {
     "data": {
      "image/png": "[encoded data removed]",
      "text/plain": [
       "<Figure size 432x288 with 1 Axes>"
      ]
     },
     "metadata": {
      "needs_background": "light"
     },
     "output_type": "display_data"
    }
   ],
   "source": [
    "df.plot()"
   ]
  },
  {
   "cell_type": "markdown",
   "metadata": {},
   "source": [
    "Check for stationary"
   ]
  },
  {
   "cell_type": "code",
   "execution_count": 8,
   "metadata": {},
   "outputs": [
    {
     "name": "stdout",
     "output_type": "stream",
     "text": [
      "1. ADF:  -3.4267386337522208\n",
      "2. P-value: 0.010080432666759247\n",
      "3. Num Of Lags: 28\n",
      "4. Num of observations used for ADF Regression and Critical Values Calculation: 3259\n",
      "5. Critical Values:\n",
      "\\t 1% : -3.4323581184837426\n",
      "\\t 5% : -2.862427266935068\n",
      "\\t 10% : -2.5672423111140947\n"
     ]
    }
   ],
   "source": [
    "from statsmodels.tsa.stattools import adfuller\n",
    "dftest = adfuller(df['Mean'],autolag='AIC')\n",
    "print(\"1. ADF: \",dftest[0])\n",
    "print(\"2. P-value:\",dftest[1])\n",
    "print(\"3. Num Of Lags:\",dftest[2])\n",
    "print(\"4. Num of observations used for ADF Regression and Critical Values Calculation:\",dftest[3])\n",
    "print(\"5. Critical Values:\")\n",
    "for key,val in dftest[4].items():\n",
    "    print(\"\\\\t\",key,\":\",val)"
   ]
  },
  {
   "cell_type": "code",
   "execution_count": 9,
   "metadata": {},
   "outputs": [
    {
     "data": {
      "image/png": "[encoded data removed]",
      "text/plain": [
       "<Figure size 432x288 with 1 Axes>"
      ]
     },
     "metadata": {
      "needs_background": "light"
     },
     "output_type": "display_data"
    },
    {
     "data": {
      "image/png": "[encoded data removed]",
      "text/plain": [
       "<Figure size 432x288 with 1 Axes>"
      ]
     },
     "metadata": {
      "needs_background": "light"
     },
     "output_type": "display_data"
    }
   ],
   "source": [
    "from statsmodels.graphics.tsaplots import plot_pacf,plot_acf\n",
    "pacf=plot_pacf(df['Mean'],lags=25)\n",
    "acf=plot_acf(df['Mean'],lags=25)"
   ]
  },
  {
   "cell_type": "markdown",
   "metadata": {},
   "source": [
    "split data into train and test : Testing last 7 days"
   ]
  },
  {
   "cell_type": "code",
   "execution_count": 10,
   "metadata": {},
   "outputs": [],
   "source": [
    "train=x[:len(x)-7]\n",
    "test=x[len(x)-7:]"
   ]
  },
  {
   "cell_type": "code",
   "execution_count": 11,
   "metadata": {},
   "outputs": [],
   "source": [
    "model=AutoReg(train,lags=5).fit()"
   ]
  },
  {
   "cell_type": "code",
   "execution_count": 12,
   "metadata": {},
   "outputs": [
    {
     "name": "stdout",
     "output_type": "stream",
     "text": [
      "                            AutoReg Model Results                             \n",
      "==============================================================================\n",
      "Dep. Variable:                      y   No. Observations:                 3281\n",
      "Model:                     AutoReg(5)   Log Likelihood                3256.869\n",
      "Method:               Conditional MLE   S.D. of innovations              0.090\n",
      "Date:                Wed, 03 Aug 2022   AIC                             -4.822\n",
      "Time:                        22:44:05   BIC                             -4.809\n",
      "Sample:                             5   HQIC                            -4.817\n",
      "                                 3281                                         \n",
      "==============================================================================\n",
      "                 coef    std err          z      P>|z|      [0.025      0.975]\n",
      "------------------------------------------------------------------------------\n",
      "intercept      0.0003      0.002      0.203      0.839      -0.003       0.003\n",
      "y.L1           0.6109      0.017     34.974      0.000       0.577       0.645\n",
      "y.L2           0.1834      0.020      9.099      0.000       0.144       0.223\n",
      "y.L3          -0.0293      0.020     -1.435      0.151      -0.069       0.011\n",
      "y.L4           0.1992      0.020      9.874      0.000       0.160       0.239\n",
      "y.L5           0.0137      0.017      0.786      0.432      -0.020       0.048\n",
      "                                    Roots                                    \n",
      "=============================================================================\n",
      "                  Real          Imaginary           Modulus         Frequency\n",
      "-----------------------------------------------------------------------------\n",
      "AR.1            1.0125           -0.0000j            1.0125           -0.0000\n",
      "AR.2            0.4247           -1.6582j            1.7117           -0.2101\n",
      "AR.3            0.4247           +1.6582j            1.7117            0.2101\n",
      "AR.4           -1.6704           -0.0000j            1.6704           -0.5000\n",
      "AR.5          -14.7012           -0.0000j           14.7012           -0.5000\n",
      "-----------------------------------------------------------------------------\n"
     ]
    }
   ],
   "source": [
    "print(model.summary())"
   ]
  },
  {
   "cell_type": "markdown",
   "metadata": {},
   "source": [
    "Make prediction on test set and compare"
   ]
  },
  {
   "cell_type": "code",
   "execution_count": 16,
   "metadata": {},
   "outputs": [],
   "source": [
    "pred=model.predict(start=len(train),end=len(x)-1,dynamic=False)"
   ]
  },
  {
   "cell_type": "code",
   "execution_count": 17,
   "metadata": {},
   "outputs": [
    {
     "name": "stdout",
     "output_type": "stream",
     "text": [
      "[-0.1137584  -0.0929044  -0.10473131 -0.08922562 -0.0940149  -0.09047382\n",
      " -0.09171223]\n"
     ]
    },
    {
     "data": {
      "image/png": "[encoded data removed]",
      "text/plain": [
       "<Figure size 432x288 with 1 Axes>"
      ]
     },
     "metadata": {
      "needs_background": "light"
     },
     "output_type": "display_data"
    }
   ],
   "source": [
    "pyplot.plot(pred)\n",
    "pyplot.plot(test,color=\"red\")\n",
    "print(pred)\n"
   ]
  },
  {
   "cell_type": "markdown",
   "metadata": {},
   "source": [
    "Calculate error"
   ]
  },
  {
   "cell_type": "code",
   "execution_count": 18,
   "metadata": {},
   "outputs": [],
   "source": [
    "from math import sqrt\n",
    "from sklearn.metrics import mean_squared_error\n",
    "rmse=sqrt(mean_squared_error(test,pred))"
   ]
  },
  {
   "cell_type": "code",
   "execution_count": 19,
   "metadata": {},
   "outputs": [
    {
     "name": "stdout",
     "output_type": "stream",
     "text": [
      "0.1184590059000786\n"
     ]
    }
   ],
   "source": [
    "print(rmse)"
   ]
  },
  {
   "cell_type": "markdown",
   "metadata": {},
   "source": [
    "Making Future Prediction"
   ]
  },
  {
   "cell_type": "code",
   "execution_count": 23,
   "metadata": {},
   "outputs": [
    {
     "name": "stdout",
     "output_type": "stream",
     "text": [
      "[-0.1137584  -0.0929044  -0.10473131 -0.08922562 -0.0940149  -0.09047382\n",
      " -0.09171223 -0.08875323 -0.08801747 -0.08634957 -0.08548045 -0.08409285\n",
      " -0.08294749 -0.0816765  -0.08053467]\n",
      "15\n"
     ]
    }
   ],
   "source": [
    "pred_future=model.predict(start=len(x)+1,end=len(x)+7,dynamic=False)\n",
    "print(pred_future)\n",
    "print(len(pred_future))"
   ]
  },
  {
   "cell_type": "code",
   "execution_count": null,
   "metadata": {},
   "outputs": [],
   "source": []
  }
 ],
 "metadata": {
  "kernelspec": {
   "display_name": "Python 3 (ipykernel)",
   "language": "python",
   "name": "python3"
  },
  "language_info": {
   "codemirror_mode": {
    "name": "ipython",
    "version": 3
   },
   "file_extension": ".py",
   "mimetype": "text/x-python",
   "name": "python",
   "nbconvert_exporter": "python",
   "pygments_lexer": "ipython3",
   "version": "3.9.12"
  }
 },
 "nbformat": 4,
 "nbformat_minor": 4
}
